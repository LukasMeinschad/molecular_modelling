{
 "cells": [
  {
   "cell_type": "markdown",
   "id": "efb2a108-d358-4739-8852-06e31550e7c4",
   "metadata": {},
   "source": [
    "# Compound Data Acquisition"
   ]
  },
  {
   "cell_type": "markdown",
   "id": "24e1d1c6-06f3-4e18-ae8c-78e9436fbd80",
   "metadata": {},
   "source": [
    "Welcome to the practical course Molecular Modelling!\n",
    "\n",
    "This course will focus on computational methods for modeling of molecules, and is based on your already gained expertise from the lecture. You will try different methods and data visualization techniques throughout this course, followed by a poster presentation at the end. As this course is a practical course, you will need extra research about your target, the methods you used, ... If something is unclear, feel free to ask our tutors, Robert Wild and Florian Wedl!\n",
    "\n",
    "In this notebook, we will learn more about the ChEMBL database and how to extract data from ChEMBL, i.e. (compound, activity data) pairs for a target of interest. These data sets can be used for many cheminformatics tasks, such as similarity search, clustering or machine learning.\n",
    "\n",
    "Our work here will include finding compounds which were tested against your target and filtering available bioactivity data. *\n",
    "\n",
    "Goal: Get a list of compounds with bioactivity data for your target"
   ]
  },
  {
   "cell_type": "markdown",
   "id": "98cacb25-bb47-4984-bed5-51eaf44730f6",
   "metadata": {},
   "source": [
    "## ChEMBL database"
   ]
  },
  {
   "cell_type": "markdown",
   "id": "95ef2b72-b019-458d-8606-3cec314ef255",
   "metadata": {},
   "source": [
    "ChEMBL is a manually curated database of bioactive molecules with drug-like properties. It brings together chemical, bioactivity and genomic data to aid the translation of genomic information into effective new drugs. see https://www.ebi.ac.uk/chembl/ for more information.\n",
    "\n",
    "Current data content (as of 09.2020, ChEMBL 27):\n",
    "\n",
    ">1.9 million distinct compounds\n",
    "\n",
    ">16 million activity values\n",
    "\n",
    ">Assays are mapped to ~13,000 targets"
   ]
  },
  {
   "cell_type": "markdown",
   "id": "3915e1c6-d26a-400d-b115-dff9fce876bd",
   "metadata": {},
   "source": [
    "## Compound activity measures"
   ]
  },
  {
   "cell_type": "markdown",
   "id": "984f9697-2f2d-4e83-9c43-5144a424713d",
   "metadata": {},
   "source": [
    "How is the potentcy of a drug usually measured?\n",
    "\n",
    "check the following literature: https://en.wikipedia.org/wiki/IC50"
   ]
  },
  {
   "cell_type": "markdown",
   "id": "d2cc0806-d812-4002-bfbc-390acfbeb31f",
   "metadata": {},
   "source": [
    "## Excercise 1"
   ]
  },
  {
   "cell_type": "markdown",
   "id": "b849b438-58bb-444a-91f4-387e9ea7d5f9",
   "metadata": {},
   "source": [
    "as you might already know from the Hands-On session of the lecture, we need certain packages and python libraries to run specific code."
   ]
  },
  {
   "cell_type": "code",
   "execution_count": 1,
   "id": "f841e89f-011b-4395-9f10-f1effe035b5c",
   "metadata": {},
   "outputs": [
    {
     "ename": "ModuleNotFoundError",
     "evalue": "No module named 'rdkit'",
     "output_type": "error",
     "traceback": [
      "\u001b[0;31m---------------------------------------------------------------------------\u001b[0m",
      "\u001b[0;31mModuleNotFoundError\u001b[0m                       Traceback (most recent call last)",
      "Cell \u001b[0;32mIn[1], line 8\u001b[0m\n\u001b[1;32m      6\u001b[0m \u001b[38;5;28;01mimport\u001b[39;00m \u001b[38;5;21;01mnumpy\u001b[39;00m \u001b[38;5;28;01mas\u001b[39;00m \u001b[38;5;21;01mnp\u001b[39;00m\n\u001b[1;32m      7\u001b[0m \u001b[38;5;28;01mimport\u001b[39;00m \u001b[38;5;21;01mpandas\u001b[39;00m \u001b[38;5;28;01mas\u001b[39;00m \u001b[38;5;21;01mpd\u001b[39;00m\n\u001b[0;32m----> 8\u001b[0m \u001b[38;5;28;01mfrom\u001b[39;00m \u001b[38;5;21;01mrdkit\u001b[39;00m\u001b[38;5;21;01m.\u001b[39;00m\u001b[38;5;21;01mChem\u001b[39;00m \u001b[38;5;28;01mimport\u001b[39;00m PandasTools\n\u001b[1;32m      9\u001b[0m \u001b[38;5;28;01mfrom\u001b[39;00m \u001b[38;5;21;01mchembl_webresource_client\u001b[39;00m\u001b[38;5;21;01m.\u001b[39;00m\u001b[38;5;21;01mnew_client\u001b[39;00m \u001b[38;5;28;01mimport\u001b[39;00m new_client\n\u001b[1;32m     10\u001b[0m \u001b[38;5;28;01mfrom\u001b[39;00m \u001b[38;5;21;01mtqdm\u001b[39;00m\u001b[38;5;21;01m.\u001b[39;00m\u001b[38;5;21;01mauto\u001b[39;00m \u001b[38;5;28;01mimport\u001b[39;00m tqdm\n",
      "\u001b[0;31mModuleNotFoundError\u001b[0m: No module named 'rdkit'"
     ]
    }
   ],
   "source": [
    "import math\n",
    "from pathlib import Path\n",
    "from zipfile import ZipFile\n",
    "from tempfile import TemporaryDirectory\n",
    "\n",
    "import numpy as np\n",
    "import pandas as pd\n",
    "from rdkit.Chem import PandasTools\n",
    "from chembl_webresource_client.new_client import new_client\n",
    "from tqdm.auto import tqdm\n",
    "import os"
   ]
  },
  {
   "cell_type": "raw",
   "id": "stunning-despite",
   "metadata": {
    "tags": []
   },
   "source": [
    "! pip install chembl_webresource_client"
   ]
  },
  {
   "cell_type": "raw",
   "id": "reported-cooperative",
   "metadata": {},
   "source": [
    "!pip install tqdm"
   ]
  },
  {
   "cell_type": "markdown",
   "id": "02ab80f4-3574-4bf5-9c9e-83c3340cdbbe",
   "metadata": {},
   "source": [
    "next, we want to create a directory where we want to store our generated data. We name this directory 'data'."
   ]
  },
  {
   "cell_type": "code",
   "execution_count": 2,
   "id": "8e7112ea-99fb-4396-a18c-53674cd4f86d",
   "metadata": {
    "tags": []
   },
   "outputs": [],
   "source": [
    "os.chdir('/media/storage_6/afi/Molecular_modelling_PR_23/test_run_afi/data')"
   ]
  },
  {
   "cell_type": "code",
   "execution_count": null,
   "id": "a5e2ecf5",
   "metadata": {},
   "outputs": [],
   "source": []
  },
  {
   "cell_type": "markdown",
   "id": "d632e1bf-6a0a-4c36-8872-77432e1c9694",
   "metadata": {},
   "source": [
    "next, we create resource objects for API access. check https://en.wikipedia.org/wiki/API"
   ]
  },
  {
   "cell_type": "code",
   "execution_count": 3,
   "id": "10b4789c-6b57-44e3-a057-19565d1c7e46",
   "metadata": {
    "tags": []
   },
   "outputs": [
    {
     "data": {
      "text/plain": [
       "chembl_webresource_client.query_set.QuerySet"
      ]
     },
     "execution_count": 3,
     "metadata": {},
     "output_type": "execute_result"
    }
   ],
   "source": [
    "targets_api = new_client.target\n",
    "compounds_api = new_client.molecule\n",
    "bioactivities_api = new_client.activity\n",
    "\n",
    "type(targets_api)"
   ]
  },
  {
   "cell_type": "markdown",
   "id": "f413c9ea-fda2-4e9e-b4d5-ee5acf995a25",
   "metadata": {},
   "source": [
    "Get the Uniprot ID of the target of interest. UniProt website: https://www.uniprot.org/"
   ]
  },
  {
   "cell_type": "code",
   "execution_count": 29,
   "id": "9b8d14f7-0be1-41e6-84f7-9be5176fa8d3",
   "metadata": {},
   "outputs": [],
   "source": [
    "uniprot_id = \"Q13936\""
   ]
  },
  {
   "cell_type": "markdown",
   "id": "e1fe48a9-505b-42e0-908e-89fb5320c34e",
   "metadata": {},
   "source": [
    "now we fetch target data from ChEMBL"
   ]
  },
  {
   "cell_type": "code",
   "execution_count": 30,
   "id": "9cb2a3da-2bed-4a1d-9633-7228d3558b69",
   "metadata": {},
   "outputs": [
    {
     "name": "stdout",
     "output_type": "stream",
     "text": [
      "The type of the targets is \"<class 'chembl_webresource_client.query_set.QuerySet'>\"\n"
     ]
    }
   ],
   "source": [
    "# Get target information from ChEMBL but restrict it to specified values only\n",
    "targets = targets_api.get(target_components__accession=uniprot_id).only(\n",
    "    \"target_chembl_id\", \"organism\", \"pref_name\", \"target_type\"\n",
    ")\n",
    "print(f'The type of the targets is \"{type(targets)}\"')"
   ]
  },
  {
   "cell_type": "markdown",
   "id": "2fe16882-a220-47a8-8cda-6c9860c4166a",
   "metadata": {},
   "source": [
    "\n",
    "to use the target data, we need to download it from ChEMBL.\n",
    "\n",
    "The results of the query are stored in targets, a QuerySet, i.e. the results are not fetched from ChEMBL until we ask for it (here using pandas.DataFrame.from_records).\n"
   ]
  },
  {
   "cell_type": "code",
   "execution_count": 31,
   "id": "48cb820e-4b26-4675-92a9-ac88fe7f50eb",
   "metadata": {},
   "outputs": [
    {
     "data": {
      "text/html": [
       "<div>\n",
       "<style scoped>\n",
       "    .dataframe tbody tr th:only-of-type {\n",
       "        vertical-align: middle;\n",
       "    }\n",
       "\n",
       "    .dataframe tbody tr th {\n",
       "        vertical-align: top;\n",
       "    }\n",
       "\n",
       "    .dataframe thead th {\n",
       "        text-align: right;\n",
       "    }\n",
       "</style>\n",
       "<table border=\"1\" class=\"dataframe\">\n",
       "  <thead>\n",
       "    <tr style=\"text-align: right;\">\n",
       "      <th></th>\n",
       "      <th>organism</th>\n",
       "      <th>pref_name</th>\n",
       "      <th>target_chembl_id</th>\n",
       "      <th>target_type</th>\n",
       "    </tr>\n",
       "  </thead>\n",
       "  <tbody>\n",
       "    <tr>\n",
       "      <th>0</th>\n",
       "      <td>Homo sapiens</td>\n",
       "      <td>Voltage-gated L-type calcium channel alpha-1C ...</td>\n",
       "      <td>CHEMBL1940</td>\n",
       "      <td>SINGLE PROTEIN</td>\n",
       "    </tr>\n",
       "    <tr>\n",
       "      <th>1</th>\n",
       "      <td>Homo sapiens</td>\n",
       "      <td>Voltage-gated L-type calcium channel alpha-1C ...</td>\n",
       "      <td>CHEMBL1940</td>\n",
       "      <td>SINGLE PROTEIN</td>\n",
       "    </tr>\n",
       "    <tr>\n",
       "      <th>2</th>\n",
       "      <td>Homo sapiens</td>\n",
       "      <td>Voltage-gated L-type calcium channel</td>\n",
       "      <td>CHEMBL2095229</td>\n",
       "      <td>PROTEIN FAMILY</td>\n",
       "    </tr>\n",
       "    <tr>\n",
       "      <th>3</th>\n",
       "      <td>Homo sapiens</td>\n",
       "      <td>Voltage-gated calcium channel</td>\n",
       "      <td>CHEMBL2363032</td>\n",
       "      <td>PROTEIN COMPLEX GROUP</td>\n",
       "    </tr>\n",
       "    <tr>\n",
       "      <th>4</th>\n",
       "      <td>Homo sapiens</td>\n",
       "      <td>Voltage-dependent L-type calcium channel alpha...</td>\n",
       "      <td>CHEMBL3988638</td>\n",
       "      <td>PROTEIN COMPLEX</td>\n",
       "    </tr>\n",
       "    <tr>\n",
       "      <th>5</th>\n",
       "      <td>Homo sapiens</td>\n",
       "      <td>L-type calcium channel alpha-1c/beta-2/alpha2d...</td>\n",
       "      <td>CHEMBL4106164</td>\n",
       "      <td>PROTEIN COMPLEX</td>\n",
       "    </tr>\n",
       "  </tbody>\n",
       "</table>\n",
       "</div>"
      ],
      "text/plain": [
       "       organism                                          pref_name   \n",
       "0  Homo sapiens  Voltage-gated L-type calcium channel alpha-1C ...  \\\n",
       "1  Homo sapiens  Voltage-gated L-type calcium channel alpha-1C ...   \n",
       "2  Homo sapiens               Voltage-gated L-type calcium channel   \n",
       "3  Homo sapiens                      Voltage-gated calcium channel   \n",
       "4  Homo sapiens  Voltage-dependent L-type calcium channel alpha...   \n",
       "5  Homo sapiens  L-type calcium channel alpha-1c/beta-2/alpha2d...   \n",
       "\n",
       "  target_chembl_id            target_type  \n",
       "0       CHEMBL1940         SINGLE PROTEIN  \n",
       "1       CHEMBL1940         SINGLE PROTEIN  \n",
       "2    CHEMBL2095229         PROTEIN FAMILY  \n",
       "3    CHEMBL2363032  PROTEIN COMPLEX GROUP  \n",
       "4    CHEMBL3988638        PROTEIN COMPLEX  \n",
       "5    CHEMBL4106164        PROTEIN COMPLEX  "
      ]
     },
     "execution_count": 31,
     "metadata": {},
     "output_type": "execute_result"
    }
   ],
   "source": [
    "targets = pd.DataFrame.from_records(targets)\n",
    "targets"
   ]
  },
  {
   "cell_type": "markdown",
   "id": "ae643cc3-0915-494b-ace1-8735f1b42e39",
   "metadata": {},
   "source": [
    "after checking the entries, you select your target of interest."
   ]
  },
  {
   "cell_type": "code",
   "execution_count": 32,
   "id": "726da0d7-1ede-4da3-ad99-4c1d19098d92",
   "metadata": {},
   "outputs": [
    {
     "data": {
      "text/plain": [
       "organism                                                 Homo sapiens\n",
       "pref_name           Voltage-gated L-type calcium channel alpha-1C ...\n",
       "target_chembl_id                                           CHEMBL1940\n",
       "target_type                                            SINGLE PROTEIN\n",
       "Name: 0, dtype: object"
      ]
     },
     "execution_count": 32,
     "metadata": {},
     "output_type": "execute_result"
    }
   ],
   "source": [
    "target = targets.iloc[0]\n",
    "target"
   ]
  },
  {
   "cell_type": "markdown",
   "id": "f2c77240-3de8-46c1-8fe0-395ac23ff88f",
   "metadata": {},
   "source": [
    "Great! You found your target. Now you should save the chembl id."
   ]
  },
  {
   "cell_type": "code",
   "execution_count": 33,
   "id": "e68cd088-631b-4c9a-8a18-9dd2c5f2310e",
   "metadata": {},
   "outputs": [
    {
     "data": {
      "text/plain": [
       "'CHEMBL1940'"
      ]
     },
     "execution_count": 33,
     "metadata": {},
     "output_type": "execute_result"
    }
   ],
   "source": [
    "#get chembl id from df\n",
    "chembl_id = target['target_chembl_id']\n",
    "chembl_id"
   ]
  },
  {
   "cell_type": "markdown",
   "id": "d3d4c760-2bc8-4ef6-b9df-0746be177770",
   "metadata": {},
   "source": [
    "### Get bioactivity data"
   ]
  },
  {
   "cell_type": "markdown",
   "id": "9a041be9-afa2-4ce3-961f-3558abafe1fe",
   "metadata": {},
   "source": [
    "Now, we want to fetch the bioactivity data for the target of interest.\n",
    "\n",
    "In this step, we fetch the bioactivity data and filter it to only consider: *\n",
    "\n",
    " - human proteins,\n",
    " - bioactivity type IC50,\n",
    " - exact measurements (relation '='), and\n",
    " - binding data (assay type 'B')."
   ]
  },
  {
   "cell_type": "code",
   "execution_count": 34,
   "id": "0756705e-934f-4839-b9f0-59a6e0a15d5f",
   "metadata": {},
   "outputs": [
    {
     "name": "stdout",
     "output_type": "stream",
     "text": [
      "Length and type of bioactivities object: 107, <class 'chembl_webresource_client.query_set.QuerySet'>\n"
     ]
    }
   ],
   "source": [
    "bioactivities = bioactivities_api.filter(\n",
    "    target_chembl_id=chembl_id, type=\"IC50\", relation=\"=\", assay_type=\"B\"\n",
    ").only(\n",
    "    \"activity_id\",\n",
    "    \"assay_chembl_id\",\n",
    "    \"assay_description\",\n",
    "    \"assay_type\",\n",
    "    \"molecule_chembl_id\",\n",
    "    \"type\",\n",
    "    \"standard_units\",\n",
    "    \"relation\",\n",
    "    \"standard_value\",\n",
    "    \"target_chembl_id\",\n",
    "    \"target_organism\",\n",
    ")\n",
    "\n",
    "print(f\"Length and type of bioactivities object: {len(bioactivities)}, {type(bioactivities)}\")"
   ]
  },
  {
   "cell_type": "markdown",
   "id": "203e9078-c8b4-488b-8fb1-3808310121d1",
   "metadata": {},
   "source": [
    "In our bioactivity set, each entry holds important information ... try to find out the molecule_chembl_id of your first entry of the set. *"
   ]
  },
  {
   "cell_type": "raw",
   "id": "f855bc75-400e-4277-b9db-1123f6f79fc6",
   "metadata": {},
   "source": [
    "bioactivities"
   ]
  },
  {
   "cell_type": "code",
   "execution_count": 35,
   "id": "9aa658b2-fd48-411f-9d6b-4f49755ee717",
   "metadata": {},
   "outputs": [
    {
     "data": {
      "text/plain": [
       "'CHEMBL343771'"
      ]
     },
     "execution_count": 35,
     "metadata": {},
     "output_type": "execute_result"
    }
   ],
   "source": [
    "ligand_chembl_id = bioactivities[0]['molecule_chembl_id']\n",
    "ligand_chembl_id\n",
    "## TODO: check the bioactivity set"
   ]
  },
  {
   "cell_type": "markdown",
   "id": "4ca25e7c-968d-4d60-9f86-ef16a5fd38a8",
   "metadata": {},
   "source": [
    "now, we download the bioactivity data from ChEMBL, similar as we did it for your target. <span style=\"color:red\">for what? </span>*"
   ]
  },
  {
   "cell_type": "code",
   "execution_count": 36,
   "id": "26032c70-9140-4418-b21f-8b996cf00fe4",
   "metadata": {},
   "outputs": [
    {
     "name": "stdout",
     "output_type": "stream",
     "text": [
      "DataFrame shape: (108, 13)\n"
     ]
    },
    {
     "data": {
      "text/html": [
       "<div>\n",
       "<style scoped>\n",
       "    .dataframe tbody tr th:only-of-type {\n",
       "        vertical-align: middle;\n",
       "    }\n",
       "\n",
       "    .dataframe tbody tr th {\n",
       "        vertical-align: top;\n",
       "    }\n",
       "\n",
       "    .dataframe thead th {\n",
       "        text-align: right;\n",
       "    }\n",
       "</style>\n",
       "<table border=\"1\" class=\"dataframe\">\n",
       "  <thead>\n",
       "    <tr style=\"text-align: right;\">\n",
       "      <th></th>\n",
       "      <th>activity_id</th>\n",
       "      <th>assay_chembl_id</th>\n",
       "      <th>assay_description</th>\n",
       "      <th>assay_type</th>\n",
       "      <th>molecule_chembl_id</th>\n",
       "      <th>relation</th>\n",
       "      <th>standard_units</th>\n",
       "      <th>standard_value</th>\n",
       "      <th>target_chembl_id</th>\n",
       "      <th>target_organism</th>\n",
       "      <th>type</th>\n",
       "      <th>units</th>\n",
       "      <th>value</th>\n",
       "    </tr>\n",
       "  </thead>\n",
       "  <tbody>\n",
       "    <tr>\n",
       "      <th>0</th>\n",
       "      <td>439718</td>\n",
       "      <td>CHEMBL656260</td>\n",
       "      <td>Inhibition of (-)-[3H]- D-888 binding to L-typ...</td>\n",
       "      <td>B</td>\n",
       "      <td>CHEMBL343771</td>\n",
       "      <td>=</td>\n",
       "      <td>nM</td>\n",
       "      <td>540.0</td>\n",
       "      <td>CHEMBL1940</td>\n",
       "      <td>Homo sapiens</td>\n",
       "      <td>IC50</td>\n",
       "      <td>uM</td>\n",
       "      <td>0.54</td>\n",
       "    </tr>\n",
       "    <tr>\n",
       "      <th>1</th>\n",
       "      <td>439718</td>\n",
       "      <td>CHEMBL656260</td>\n",
       "      <td>Inhibition of (-)-[3H]- D-888 binding to L-typ...</td>\n",
       "      <td>B</td>\n",
       "      <td>CHEMBL343771</td>\n",
       "      <td>=</td>\n",
       "      <td>nM</td>\n",
       "      <td>540.0</td>\n",
       "      <td>CHEMBL1940</td>\n",
       "      <td>Homo sapiens</td>\n",
       "      <td>IC50</td>\n",
       "      <td>uM</td>\n",
       "      <td>0.54</td>\n",
       "    </tr>\n",
       "    <tr>\n",
       "      <th>2</th>\n",
       "      <td>447874</td>\n",
       "      <td>CHEMBL656260</td>\n",
       "      <td>Inhibition of (-)-[3H]- D-888 binding to L-typ...</td>\n",
       "      <td>B</td>\n",
       "      <td>CHEMBL138302</td>\n",
       "      <td>=</td>\n",
       "      <td>nM</td>\n",
       "      <td>390.0</td>\n",
       "      <td>CHEMBL1940</td>\n",
       "      <td>Homo sapiens</td>\n",
       "      <td>IC50</td>\n",
       "      <td>uM</td>\n",
       "      <td>0.39</td>\n",
       "    </tr>\n",
       "    <tr>\n",
       "      <th>3</th>\n",
       "      <td>458410</td>\n",
       "      <td>CHEMBL656260</td>\n",
       "      <td>Inhibition of (-)-[3H]- D-888 binding to L-typ...</td>\n",
       "      <td>B</td>\n",
       "      <td>CHEMBL138302</td>\n",
       "      <td>=</td>\n",
       "      <td>nM</td>\n",
       "      <td>260.0</td>\n",
       "      <td>CHEMBL1940</td>\n",
       "      <td>Homo sapiens</td>\n",
       "      <td>IC50</td>\n",
       "      <td>uM</td>\n",
       "      <td>0.26</td>\n",
       "    </tr>\n",
       "    <tr>\n",
       "      <th>4</th>\n",
       "      <td>458417</td>\n",
       "      <td>CHEMBL656260</td>\n",
       "      <td>Inhibition of (-)-[3H]- D-888 binding to L-typ...</td>\n",
       "      <td>B</td>\n",
       "      <td>CHEMBL6966</td>\n",
       "      <td>=</td>\n",
       "      <td>nM</td>\n",
       "      <td>150.0</td>\n",
       "      <td>CHEMBL1940</td>\n",
       "      <td>Homo sapiens</td>\n",
       "      <td>IC50</td>\n",
       "      <td>uM</td>\n",
       "      <td>0.15</td>\n",
       "    </tr>\n",
       "  </tbody>\n",
       "</table>\n",
       "</div>"
      ],
      "text/plain": [
       "   activity_id assay_chembl_id   \n",
       "0       439718    CHEMBL656260  \\\n",
       "1       439718    CHEMBL656260   \n",
       "2       447874    CHEMBL656260   \n",
       "3       458410    CHEMBL656260   \n",
       "4       458417    CHEMBL656260   \n",
       "\n",
       "                                   assay_description assay_type   \n",
       "0  Inhibition of (-)-[3H]- D-888 binding to L-typ...          B  \\\n",
       "1  Inhibition of (-)-[3H]- D-888 binding to L-typ...          B   \n",
       "2  Inhibition of (-)-[3H]- D-888 binding to L-typ...          B   \n",
       "3  Inhibition of (-)-[3H]- D-888 binding to L-typ...          B   \n",
       "4  Inhibition of (-)-[3H]- D-888 binding to L-typ...          B   \n",
       "\n",
       "  molecule_chembl_id relation standard_units standard_value target_chembl_id   \n",
       "0       CHEMBL343771        =             nM          540.0       CHEMBL1940  \\\n",
       "1       CHEMBL343771        =             nM          540.0       CHEMBL1940   \n",
       "2       CHEMBL138302        =             nM          390.0       CHEMBL1940   \n",
       "3       CHEMBL138302        =             nM          260.0       CHEMBL1940   \n",
       "4         CHEMBL6966        =             nM          150.0       CHEMBL1940   \n",
       "\n",
       "  target_organism  type units value  \n",
       "0    Homo sapiens  IC50    uM  0.54  \n",
       "1    Homo sapiens  IC50    uM  0.54  \n",
       "2    Homo sapiens  IC50    uM  0.39  \n",
       "3    Homo sapiens  IC50    uM  0.26  \n",
       "4    Homo sapiens  IC50    uM  0.15  "
      ]
     },
     "execution_count": 36,
     "metadata": {},
     "output_type": "execute_result"
    }
   ],
   "source": [
    "## TODO: download the bioactivity data and check the content of your df! use a similar procedure\n",
    "bioactivities_df = pd.DataFrame.from_records(bioactivities)\n",
    "print(f\"DataFrame shape: {bioactivities_df.shape}\")\n",
    "bioactivities_df.head()"
   ]
  },
  {
   "cell_type": "code",
   "execution_count": 37,
   "id": "ff45f06a-1459-4050-9dce-eb408be84a0c",
   "metadata": {},
   "outputs": [
    {
     "data": {
      "text/plain": [
       "108"
      ]
     },
     "execution_count": 37,
     "metadata": {},
     "output_type": "execute_result"
    }
   ],
   "source": [
    "len(bioactivities_df)"
   ]
  },
  {
   "cell_type": "markdown",
   "id": "051fbe59-38b2-4522-818b-5e8c2f610cf3",
   "metadata": {},
   "source": [
    "Note that the first two rows describe the same bioactivity entry; we will remove such artifacts later during the deduplication step. \n",
    "\n",
    "Note also that we have columns for standard_units/units and standard_values/values; in the following, we will use the standardized columns (standardization by ChEMBL), and thus, we drop the other two columns.*\n",
    "\n",
    "So first find the unique elements of the units column, then drop the units and value column. <span style=\"color:red\">why units column? </span>*\n"
   ]
  },
  {
   "cell_type": "code",
   "execution_count": null,
   "id": "7d802407-0911-48ab-a988-80e2fb2c4123",
   "metadata": {},
   "outputs": [
    {
     "data": {
      "text/html": [
       "<div>\n",
       "<style scoped>\n",
       "    .dataframe tbody tr th:only-of-type {\n",
       "        vertical-align: middle;\n",
       "    }\n",
       "\n",
       "    .dataframe tbody tr th {\n",
       "        vertical-align: top;\n",
       "    }\n",
       "\n",
       "    .dataframe thead th {\n",
       "        text-align: right;\n",
       "    }\n",
       "</style>\n",
       "<table border=\"1\" class=\"dataframe\">\n",
       "  <thead>\n",
       "    <tr style=\"text-align: right;\">\n",
       "      <th></th>\n",
       "      <th>activity_id</th>\n",
       "      <th>assay_chembl_id</th>\n",
       "      <th>assay_description</th>\n",
       "      <th>assay_type</th>\n",
       "      <th>molecule_chembl_id</th>\n",
       "      <th>relation</th>\n",
       "      <th>standard_units</th>\n",
       "      <th>standard_value</th>\n",
       "      <th>target_chembl_id</th>\n",
       "      <th>target_organism</th>\n",
       "      <th>type</th>\n",
       "    </tr>\n",
       "  </thead>\n",
       "  <tbody>\n",
       "    <tr>\n",
       "      <th>0</th>\n",
       "      <td>439718</td>\n",
       "      <td>CHEMBL656260</td>\n",
       "      <td>Inhibition of (-)-[3H]- D-888 binding to L-typ...</td>\n",
       "      <td>B</td>\n",
       "      <td>CHEMBL343771</td>\n",
       "      <td>=</td>\n",
       "      <td>nM</td>\n",
       "      <td>540.0</td>\n",
       "      <td>CHEMBL1940</td>\n",
       "      <td>Homo sapiens</td>\n",
       "      <td>IC50</td>\n",
       "    </tr>\n",
       "    <tr>\n",
       "      <th>1</th>\n",
       "      <td>439718</td>\n",
       "      <td>CHEMBL656260</td>\n",
       "      <td>Inhibition of (-)-[3H]- D-888 binding to L-typ...</td>\n",
       "      <td>B</td>\n",
       "      <td>CHEMBL343771</td>\n",
       "      <td>=</td>\n",
       "      <td>nM</td>\n",
       "      <td>540.0</td>\n",
       "      <td>CHEMBL1940</td>\n",
       "      <td>Homo sapiens</td>\n",
       "      <td>IC50</td>\n",
       "    </tr>\n",
       "    <tr>\n",
       "      <th>2</th>\n",
       "      <td>447874</td>\n",
       "      <td>CHEMBL656260</td>\n",
       "      <td>Inhibition of (-)-[3H]- D-888 binding to L-typ...</td>\n",
       "      <td>B</td>\n",
       "      <td>CHEMBL138302</td>\n",
       "      <td>=</td>\n",
       "      <td>nM</td>\n",
       "      <td>390.0</td>\n",
       "      <td>CHEMBL1940</td>\n",
       "      <td>Homo sapiens</td>\n",
       "      <td>IC50</td>\n",
       "    </tr>\n",
       "    <tr>\n",
       "      <th>3</th>\n",
       "      <td>458410</td>\n",
       "      <td>CHEMBL656260</td>\n",
       "      <td>Inhibition of (-)-[3H]- D-888 binding to L-typ...</td>\n",
       "      <td>B</td>\n",
       "      <td>CHEMBL138302</td>\n",
       "      <td>=</td>\n",
       "      <td>nM</td>\n",
       "      <td>260.0</td>\n",
       "      <td>CHEMBL1940</td>\n",
       "      <td>Homo sapiens</td>\n",
       "      <td>IC50</td>\n",
       "    </tr>\n",
       "    <tr>\n",
       "      <th>4</th>\n",
       "      <td>458417</td>\n",
       "      <td>CHEMBL656260</td>\n",
       "      <td>Inhibition of (-)-[3H]- D-888 binding to L-typ...</td>\n",
       "      <td>B</td>\n",
       "      <td>CHEMBL6966</td>\n",
       "      <td>=</td>\n",
       "      <td>nM</td>\n",
       "      <td>150.0</td>\n",
       "      <td>CHEMBL1940</td>\n",
       "      <td>Homo sapiens</td>\n",
       "      <td>IC50</td>\n",
       "    </tr>\n",
       "  </tbody>\n",
       "</table>\n",
       "</div>"
      ],
      "text/plain": [
       "   activity_id assay_chembl_id   \n",
       "0       439718    CHEMBL656260  \\\n",
       "1       439718    CHEMBL656260   \n",
       "2       447874    CHEMBL656260   \n",
       "3       458410    CHEMBL656260   \n",
       "4       458417    CHEMBL656260   \n",
       "\n",
       "                                   assay_description assay_type   \n",
       "0  Inhibition of (-)-[3H]- D-888 binding to L-typ...          B  \\\n",
       "1  Inhibition of (-)-[3H]- D-888 binding to L-typ...          B   \n",
       "2  Inhibition of (-)-[3H]- D-888 binding to L-typ...          B   \n",
       "3  Inhibition of (-)-[3H]- D-888 binding to L-typ...          B   \n",
       "4  Inhibition of (-)-[3H]- D-888 binding to L-typ...          B   \n",
       "\n",
       "  molecule_chembl_id relation standard_units standard_value target_chembl_id   \n",
       "0       CHEMBL343771        =             nM          540.0       CHEMBL1940  \\\n",
       "1       CHEMBL343771        =             nM          540.0       CHEMBL1940   \n",
       "2       CHEMBL138302        =             nM          390.0       CHEMBL1940   \n",
       "3       CHEMBL138302        =             nM          260.0       CHEMBL1940   \n",
       "4         CHEMBL6966        =             nM          150.0       CHEMBL1940   \n",
       "\n",
       "  target_organism  type  \n",
       "0    Homo sapiens  IC50  \n",
       "1    Homo sapiens  IC50  \n",
       "2    Homo sapiens  IC50  \n",
       "3    Homo sapiens  IC50  \n",
       "4    Homo sapiens  IC50  "
      ]
     },
     "execution_count": 38,
     "metadata": {},
     "output_type": "execute_result"
    }
   ],
   "source": [
    "#TODO: \n",
    "bioactivities_df.drop([\"units\", \"value\"], axis=1, inplace=True)\n",
    "bioactivities_df.head()"
   ]
  },
  {
   "cell_type": "markdown",
   "id": "b3caa225-ef55-4923-be0c-6f7f8eea765a",
   "metadata": {},
   "source": [
    "Now we filter and preprocess our bioactivity data.\n",
    "We want to do the following:\n",
    "\n",
    "1. Convert standard_value’s datatype from object to float\n",
    "2. Delete entries with missing values \n",
    "3. Keep only entries with standard_unit == nM\n",
    "4. Delete duplicate molecules\n",
    "5. Reset DataFrame index\n",
    "6. Rename columns"
   ]
  },
  {
   "cell_type": "code",
   "execution_count": null,
   "id": "f449665d-b685-49dd-b916-11e799a36c72",
   "metadata": {},
   "outputs": [
    {
     "data": {
      "text/plain": [
       "activity_id             int64\n",
       "assay_chembl_id        object\n",
       "assay_description      object\n",
       "assay_type             object\n",
       "molecule_chembl_id     object\n",
       "relation               object\n",
       "standard_units         object\n",
       "standard_value        float64\n",
       "target_chembl_id       object\n",
       "target_organism        object\n",
       "type                   object\n",
       "dtype: object"
      ]
     },
     "execution_count": 39,
     "metadata": {},
     "output_type": "execute_result"
    }
   ],
   "source": [
    "##TODO: Convert standard_value’s datatype in bioactivities_df from object to float (hint: use .astype())\n",
    "bioactivities_df = bioactivities_df.astype({\"standard_value\": \"float64\"})\n",
    "bioactivities_df.dtypes"
   ]
  },
  {
   "cell_type": "code",
   "execution_count": null,
   "id": "c96e7100-c949-48c1-b0e5-674e36d326a9",
   "metadata": {},
   "outputs": [
    {
     "name": "stdout",
     "output_type": "stream",
     "text": [
      "DataFrame shape: (108, 11)\n"
     ]
    }
   ],
   "source": [
    "##TODO: Delete entries with missing values (hint: use .dropna())\n",
    "bioactivities_df.dropna(axis=0, how=\"any\", inplace=True)\n",
    "print(f\"DataFrame shape: {bioactivities_df.shape}\")"
   ]
  },
  {
   "cell_type": "code",
   "execution_count": null,
   "id": "98604f78-2d1a-4544-85f4-e441bdf1be2c",
   "metadata": {},
   "outputs": [
    {
     "name": "stdout",
     "output_type": "stream",
     "text": [
      "Units in downloaded data: ['nM']\n",
      "Number of non-nM entries:    0\n"
     ]
    }
   ],
   "source": [
    "##TODO: Keep only entries with standard_unit == nM (which means that you should delete entries with standard_units != nM)\n",
    "print(f\"Units in downloaded data: {bioactivities_df['standard_units'].unique()}\")\n",
    "print(\n",
    "    f\"Number of non-nM entries:\\\n",
    "    {bioactivities_df[bioactivities_df['standard_units'] != 'nM'].shape[0]}\"\n",
    ")\n",
    "#bioactivities_df = bioactivities_df[bioactivities_df[\"standard_units\"] == \"nM\"]"
   ]
  },
  {
   "cell_type": "code",
   "execution_count": null,
   "id": "7c1c669e-5f55-486f-bd44-f8517f53a765",
   "metadata": {},
   "outputs": [
    {
     "name": "stdout",
     "output_type": "stream",
     "text": [
      "Units after filtering: ['nM']\n"
     ]
    }
   ],
   "source": [
    "bioactivities_df = bioactivities_df[bioactivities_df[\"standard_units\"] == \"nM\"]\n",
    "print(f\"Units after filtering: {bioactivities_df['standard_units'].unique()}\")"
   ]
  },
  {
   "cell_type": "code",
   "execution_count": null,
   "id": "f9781798-1115-4326-b064-db40ddce80cf",
   "metadata": {},
   "outputs": [
    {
     "name": "stdout",
     "output_type": "stream",
     "text": [
      "DataFrame shape: (97, 11)\n"
     ]
    }
   ],
   "source": [
    "##TODO: delete duplicate molecules (maybe with drop_duplicates?) make sure, that you keep the first entry of your duplicate!\n",
    "bioactivities_df.drop_duplicates(\"molecule_chembl_id\", keep=\"first\", inplace=True)\n",
    "print(f\"DataFrame shape: {bioactivities_df.shape}\")"
   ]
  },
  {
   "cell_type": "code",
   "execution_count": null,
   "id": "dbfb8f8f-3e92-4a1b-bbc4-19345b81eee9",
   "metadata": {},
   "outputs": [
    {
     "data": {
      "text/html": [
       "<div>\n",
       "<style scoped>\n",
       "    .dataframe tbody tr th:only-of-type {\n",
       "        vertical-align: middle;\n",
       "    }\n",
       "\n",
       "    .dataframe tbody tr th {\n",
       "        vertical-align: top;\n",
       "    }\n",
       "\n",
       "    .dataframe thead th {\n",
       "        text-align: right;\n",
       "    }\n",
       "</style>\n",
       "<table border=\"1\" class=\"dataframe\">\n",
       "  <thead>\n",
       "    <tr style=\"text-align: right;\">\n",
       "      <th></th>\n",
       "      <th>activity_id</th>\n",
       "      <th>assay_chembl_id</th>\n",
       "      <th>assay_description</th>\n",
       "      <th>assay_type</th>\n",
       "      <th>molecule_chembl_id</th>\n",
       "      <th>relation</th>\n",
       "      <th>standard_units</th>\n",
       "      <th>standard_value</th>\n",
       "      <th>target_chembl_id</th>\n",
       "      <th>target_organism</th>\n",
       "      <th>type</th>\n",
       "    </tr>\n",
       "  </thead>\n",
       "  <tbody>\n",
       "    <tr>\n",
       "      <th>0</th>\n",
       "      <td>439718</td>\n",
       "      <td>CHEMBL656260</td>\n",
       "      <td>Inhibition of (-)-[3H]- D-888 binding to L-typ...</td>\n",
       "      <td>B</td>\n",
       "      <td>CHEMBL343771</td>\n",
       "      <td>=</td>\n",
       "      <td>nM</td>\n",
       "      <td>540.0</td>\n",
       "      <td>CHEMBL1940</td>\n",
       "      <td>Homo sapiens</td>\n",
       "      <td>IC50</td>\n",
       "    </tr>\n",
       "    <tr>\n",
       "      <th>1</th>\n",
       "      <td>447874</td>\n",
       "      <td>CHEMBL656260</td>\n",
       "      <td>Inhibition of (-)-[3H]- D-888 binding to L-typ...</td>\n",
       "      <td>B</td>\n",
       "      <td>CHEMBL138302</td>\n",
       "      <td>=</td>\n",
       "      <td>nM</td>\n",
       "      <td>390.0</td>\n",
       "      <td>CHEMBL1940</td>\n",
       "      <td>Homo sapiens</td>\n",
       "      <td>IC50</td>\n",
       "    </tr>\n",
       "    <tr>\n",
       "      <th>2</th>\n",
       "      <td>458417</td>\n",
       "      <td>CHEMBL656260</td>\n",
       "      <td>Inhibition of (-)-[3H]- D-888 binding to L-typ...</td>\n",
       "      <td>B</td>\n",
       "      <td>CHEMBL6966</td>\n",
       "      <td>=</td>\n",
       "      <td>nM</td>\n",
       "      <td>150.0</td>\n",
       "      <td>CHEMBL1940</td>\n",
       "      <td>Homo sapiens</td>\n",
       "      <td>IC50</td>\n",
       "    </tr>\n",
       "    <tr>\n",
       "      <th>3</th>\n",
       "      <td>1273171</td>\n",
       "      <td>CHEMBL660543</td>\n",
       "      <td>Binding affinity for DHP (Dihydropyridine) sit...</td>\n",
       "      <td>B</td>\n",
       "      <td>CHEMBL3392229</td>\n",
       "      <td>=</td>\n",
       "      <td>nM</td>\n",
       "      <td>270.0</td>\n",
       "      <td>CHEMBL1940</td>\n",
       "      <td>Homo sapiens</td>\n",
       "      <td>IC50</td>\n",
       "    </tr>\n",
       "    <tr>\n",
       "      <th>4</th>\n",
       "      <td>1283431</td>\n",
       "      <td>CHEMBL660543</td>\n",
       "      <td>Binding affinity for DHP (Dihydropyridine) sit...</td>\n",
       "      <td>B</td>\n",
       "      <td>CHEMBL3392227</td>\n",
       "      <td>=</td>\n",
       "      <td>nM</td>\n",
       "      <td>250.0</td>\n",
       "      <td>CHEMBL1940</td>\n",
       "      <td>Homo sapiens</td>\n",
       "      <td>IC50</td>\n",
       "    </tr>\n",
       "  </tbody>\n",
       "</table>\n",
       "</div>"
      ],
      "text/plain": [
       "   activity_id assay_chembl_id   \n",
       "0       439718    CHEMBL656260  \\\n",
       "1       447874    CHEMBL656260   \n",
       "2       458417    CHEMBL656260   \n",
       "3      1273171    CHEMBL660543   \n",
       "4      1283431    CHEMBL660543   \n",
       "\n",
       "                                   assay_description assay_type   \n",
       "0  Inhibition of (-)-[3H]- D-888 binding to L-typ...          B  \\\n",
       "1  Inhibition of (-)-[3H]- D-888 binding to L-typ...          B   \n",
       "2  Inhibition of (-)-[3H]- D-888 binding to L-typ...          B   \n",
       "3  Binding affinity for DHP (Dihydropyridine) sit...          B   \n",
       "4  Binding affinity for DHP (Dihydropyridine) sit...          B   \n",
       "\n",
       "  molecule_chembl_id relation standard_units  standard_value target_chembl_id   \n",
       "0       CHEMBL343771        =             nM           540.0       CHEMBL1940  \\\n",
       "1       CHEMBL138302        =             nM           390.0       CHEMBL1940   \n",
       "2         CHEMBL6966        =             nM           150.0       CHEMBL1940   \n",
       "3      CHEMBL3392229        =             nM           270.0       CHEMBL1940   \n",
       "4      CHEMBL3392227        =             nM           250.0       CHEMBL1940   \n",
       "\n",
       "  target_organism  type  \n",
       "0    Homo sapiens  IC50  \n",
       "1    Homo sapiens  IC50  \n",
       "2    Homo sapiens  IC50  \n",
       "3    Homo sapiens  IC50  \n",
       "4    Homo sapiens  IC50  "
      ]
     },
     "execution_count": 44,
     "metadata": {},
     "output_type": "execute_result"
    }
   ],
   "source": [
    "##TODO: reset data frame index, in order to be able to iterate over the index later\n",
    "bioactivities_df.reset_index(drop=True, inplace=True)\n",
    "bioactivities_df.head()"
   ]
  },
  {
   "cell_type": "code",
   "execution_count": null,
   "id": "b6f8e280-4240-44e6-bf0f-bea68570e2c6",
   "metadata": {},
   "outputs": [
    {
     "data": {
      "text/html": [
       "<div>\n",
       "<style scoped>\n",
       "    .dataframe tbody tr th:only-of-type {\n",
       "        vertical-align: middle;\n",
       "    }\n",
       "\n",
       "    .dataframe tbody tr th {\n",
       "        vertical-align: top;\n",
       "    }\n",
       "\n",
       "    .dataframe thead th {\n",
       "        text-align: right;\n",
       "    }\n",
       "</style>\n",
       "<table border=\"1\" class=\"dataframe\">\n",
       "  <thead>\n",
       "    <tr style=\"text-align: right;\">\n",
       "      <th></th>\n",
       "      <th>activity_id</th>\n",
       "      <th>assay_chembl_id</th>\n",
       "      <th>assay_description</th>\n",
       "      <th>assay_type</th>\n",
       "      <th>molecule_chembl_id</th>\n",
       "      <th>relation</th>\n",
       "      <th>units</th>\n",
       "      <th>IC50</th>\n",
       "      <th>target_chembl_id</th>\n",
       "      <th>target_organism</th>\n",
       "      <th>type</th>\n",
       "    </tr>\n",
       "  </thead>\n",
       "  <tbody>\n",
       "    <tr>\n",
       "      <th>0</th>\n",
       "      <td>439718</td>\n",
       "      <td>CHEMBL656260</td>\n",
       "      <td>Inhibition of (-)-[3H]- D-888 binding to L-typ...</td>\n",
       "      <td>B</td>\n",
       "      <td>CHEMBL343771</td>\n",
       "      <td>=</td>\n",
       "      <td>nM</td>\n",
       "      <td>540.0</td>\n",
       "      <td>CHEMBL1940</td>\n",
       "      <td>Homo sapiens</td>\n",
       "      <td>IC50</td>\n",
       "    </tr>\n",
       "    <tr>\n",
       "      <th>1</th>\n",
       "      <td>447874</td>\n",
       "      <td>CHEMBL656260</td>\n",
       "      <td>Inhibition of (-)-[3H]- D-888 binding to L-typ...</td>\n",
       "      <td>B</td>\n",
       "      <td>CHEMBL138302</td>\n",
       "      <td>=</td>\n",
       "      <td>nM</td>\n",
       "      <td>390.0</td>\n",
       "      <td>CHEMBL1940</td>\n",
       "      <td>Homo sapiens</td>\n",
       "      <td>IC50</td>\n",
       "    </tr>\n",
       "    <tr>\n",
       "      <th>2</th>\n",
       "      <td>458417</td>\n",
       "      <td>CHEMBL656260</td>\n",
       "      <td>Inhibition of (-)-[3H]- D-888 binding to L-typ...</td>\n",
       "      <td>B</td>\n",
       "      <td>CHEMBL6966</td>\n",
       "      <td>=</td>\n",
       "      <td>nM</td>\n",
       "      <td>150.0</td>\n",
       "      <td>CHEMBL1940</td>\n",
       "      <td>Homo sapiens</td>\n",
       "      <td>IC50</td>\n",
       "    </tr>\n",
       "    <tr>\n",
       "      <th>3</th>\n",
       "      <td>1273171</td>\n",
       "      <td>CHEMBL660543</td>\n",
       "      <td>Binding affinity for DHP (Dihydropyridine) sit...</td>\n",
       "      <td>B</td>\n",
       "      <td>CHEMBL3392229</td>\n",
       "      <td>=</td>\n",
       "      <td>nM</td>\n",
       "      <td>270.0</td>\n",
       "      <td>CHEMBL1940</td>\n",
       "      <td>Homo sapiens</td>\n",
       "      <td>IC50</td>\n",
       "    </tr>\n",
       "    <tr>\n",
       "      <th>4</th>\n",
       "      <td>1283431</td>\n",
       "      <td>CHEMBL660543</td>\n",
       "      <td>Binding affinity for DHP (Dihydropyridine) sit...</td>\n",
       "      <td>B</td>\n",
       "      <td>CHEMBL3392227</td>\n",
       "      <td>=</td>\n",
       "      <td>nM</td>\n",
       "      <td>250.0</td>\n",
       "      <td>CHEMBL1940</td>\n",
       "      <td>Homo sapiens</td>\n",
       "      <td>IC50</td>\n",
       "    </tr>\n",
       "  </tbody>\n",
       "</table>\n",
       "</div>"
      ],
      "text/plain": [
       "   activity_id assay_chembl_id   \n",
       "0       439718    CHEMBL656260  \\\n",
       "1       447874    CHEMBL656260   \n",
       "2       458417    CHEMBL656260   \n",
       "3      1273171    CHEMBL660543   \n",
       "4      1283431    CHEMBL660543   \n",
       "\n",
       "                                   assay_description assay_type   \n",
       "0  Inhibition of (-)-[3H]- D-888 binding to L-typ...          B  \\\n",
       "1  Inhibition of (-)-[3H]- D-888 binding to L-typ...          B   \n",
       "2  Inhibition of (-)-[3H]- D-888 binding to L-typ...          B   \n",
       "3  Binding affinity for DHP (Dihydropyridine) sit...          B   \n",
       "4  Binding affinity for DHP (Dihydropyridine) sit...          B   \n",
       "\n",
       "  molecule_chembl_id relation units   IC50 target_chembl_id target_organism   \n",
       "0       CHEMBL343771        =    nM  540.0       CHEMBL1940    Homo sapiens  \\\n",
       "1       CHEMBL138302        =    nM  390.0       CHEMBL1940    Homo sapiens   \n",
       "2         CHEMBL6966        =    nM  150.0       CHEMBL1940    Homo sapiens   \n",
       "3      CHEMBL3392229        =    nM  270.0       CHEMBL1940    Homo sapiens   \n",
       "4      CHEMBL3392227        =    nM  250.0       CHEMBL1940    Homo sapiens   \n",
       "\n",
       "   type  \n",
       "0  IC50  \n",
       "1  IC50  \n",
       "2  IC50  \n",
       "3  IC50  \n",
       "4  IC50  "
      ]
     },
     "execution_count": 45,
     "metadata": {},
     "output_type": "execute_result"
    }
   ],
   "source": [
    "##TODO rename columns standard_value to IC50 and standard_units to units!\n",
    "bioactivities_df.rename(\n",
    "    columns={\"standard_value\": \"IC50\", \"standard_units\": \"units\"}, inplace=True\n",
    ")\n",
    "bioactivities_df.head()"
   ]
  },
  {
   "cell_type": "markdown",
   "id": "b4acec60-13f1-4de5-8490-af640bb9c46f",
   "metadata": {},
   "source": [
    "now, try to find out how large your set is!"
   ]
  },
  {
   "cell_type": "markdown",
   "id": "358746f0-1471-4d32-985d-afbe2d59606f",
   "metadata": {},
   "source": [
    "### Get compound data\n",
    "\n",
    "We have now a proper df containing all molecules that were tested against your target. (with measured bioactivity data)\n",
    "Now we want to get the molecular structures of the molecules that are linked to the respective bioactivity ChEMBL IDs.\n",
    "\n",
    "Let’s have a look at the compounds from ChEMBL which we have defined bioactivity data for: We fetch compound ChEMBL IDs and structures for the compounds linked to our filtered bioactivity data."
   ]
  },
  {
   "cell_type": "code",
   "execution_count": null,
   "id": "490a71a9-2228-4411-97f0-5896863af58d",
   "metadata": {},
   "outputs": [],
   "source": [
    "compounds_provider = compounds_api.filter(\n",
    "    molecule_chembl_id__in=list(bioactivities_df[\"molecule_chembl_id\"])\n",
    ").only(\"molecule_chembl_id\", \"molecule_structures\")"
   ]
  },
  {
   "cell_type": "markdown",
   "id": "e4be835c-87ba-464f-b32c-0a7847049607",
   "metadata": {},
   "source": [
    "Again, we want to export the QuerySet object into a pandas.DataFrame. \n",
    "Given the data volume, this can take some time, so feel free to go for a coffee.\n",
    "For that reason, we will first obtain the list of records through tqdm, so we get a nice progress bar and some ETAs.\n",
    "We can then pass the list of compounds to the DataFrame."
   ]
  },
  {
   "cell_type": "code",
   "execution_count": 47,
   "id": "9d8351e4-d335-4a57-9f7b-e959caa51b6f",
   "metadata": {
    "scrolled": true
   },
   "outputs": [
    {
     "name": "stderr",
     "output_type": "stream",
     "text": [
      "100%|██████████| 97/97 [00:01<00:00, 70.82it/s]\n"
     ]
    }
   ],
   "source": [
    "compounds = list(tqdm(compounds_provider))"
   ]
  },
  {
   "cell_type": "code",
   "execution_count": 48,
   "id": "bd37fe25-e85f-4f43-8dae-3801589f6cd4",
   "metadata": {},
   "outputs": [
    {
     "name": "stdout",
     "output_type": "stream",
     "text": [
      "DataFrame shape: (97, 2)\n"
     ]
    }
   ],
   "source": [
    "## now, fetch the data of the compounds into a df!\n",
    "compounds_df = pd.DataFrame.from_records(\n",
    "    compounds,\n",
    ")\n",
    "print(f\"DataFrame shape: {compounds_df.shape}\")"
   ]
  },
  {
   "cell_type": "markdown",
   "id": "7bf1b81f-aaf6-47c3-b5fb-22c493c1f53c",
   "metadata": {},
   "source": [
    "Wow, smiles! Before we look at the structures of our molecules, we preprocess and filter the data.\n",
    "\n",
    "1. Remove entries with missing entries\n",
    "\n",
    "2. Delete duplicate molecules (by molecule_chembl_id)\n",
    "\n",
    "3. Get molecules with canonical SMILES"
   ]
  },
  {
   "cell_type": "code",
   "execution_count": 49,
   "id": "e2f5445b-70c7-434f-bbe0-683aeb09ae11",
   "metadata": {},
   "outputs": [
    {
     "name": "stdout",
     "output_type": "stream",
     "text": [
      "DataFrame shape: (97, 2)\n"
     ]
    }
   ],
   "source": [
    "##TODO: Remove entries with missing molecule structure entry... that sounds familiar\n",
    "compounds_df.dropna(axis=0, how=\"any\", inplace=True)\n",
    "print(f\"DataFrame shape: {compounds_df.shape}\")"
   ]
  },
  {
   "cell_type": "code",
   "execution_count": 50,
   "id": "af074a83-ac77-4be1-83c7-7316cf52f3df",
   "metadata": {},
   "outputs": [
    {
     "name": "stdout",
     "output_type": "stream",
     "text": [
      "DataFrame shape: (97, 2)\n"
     ]
    }
   ],
   "source": [
    "##TODO: Delete duplicate molecules... how the hell did that work before...\n",
    "compounds_df.drop_duplicates(\"molecule_chembl_id\", keep=\"first\", inplace=True)\n",
    "print(f\"DataFrame shape: {compounds_df.shape}\")"
   ]
  },
  {
   "cell_type": "markdown",
   "id": "be7844af-b699-45f8-9896-c98360580924",
   "metadata": {},
   "source": [
    "So far, we have multiple different molecular structure representations. We only want to keep the canonical SMILES."
   ]
  },
  {
   "cell_type": "code",
   "execution_count": 51,
   "id": "de043dcd-6c3f-4407-86e8-28423fbdab34",
   "metadata": {},
   "outputs": [
    {
     "data": {
      "text/plain": [
       "dict_keys(['canonical_smiles', 'molfile', 'standard_inchi', 'standard_inchi_key'])"
      ]
     },
     "execution_count": 51,
     "metadata": {},
     "output_type": "execute_result"
    }
   ],
   "source": [
    "compounds_df.iloc[0].molecule_structures.keys()"
   ]
  },
  {
   "cell_type": "code",
   "execution_count": 52,
   "id": "2c36a739-a45d-4734-9175-b33abfbcd42c",
   "metadata": {
    "tags": []
   },
   "outputs": [
    {
     "name": "stdout",
     "output_type": "stream",
     "text": [
      "DataFrame shape: (97, 2)\n"
     ]
    }
   ],
   "source": [
    "canonical_smiles = []\n",
    "\n",
    "for i, compounds in compounds_df.iterrows():\n",
    "    try:\n",
    "        canonical_smiles.append(compounds[\"molecule_structures\"][\"canonical_smiles\"])\n",
    "    except KeyError:\n",
    "        canonical_smiles.append(None)\n",
    "\n",
    "compounds_df[\"smiles\"] = canonical_smiles\n",
    "compounds_df.drop(\"molecule_structures\", axis=1, inplace=True)\n",
    "print(f\"DataFrame shape: {compounds_df.shape}\")"
   ]
  },
  {
   "cell_type": "markdown",
   "id": "b7c5253e-fb84-49e3-ad3b-f482099bf845",
   "metadata": {},
   "source": [
    "Sanity check: Remove all molecules without a canonical SMILES string."
   ]
  },
  {
   "cell_type": "code",
   "execution_count": 53,
   "id": "64b8bcf9-3ead-4957-8a16-d63b245acb30",
   "metadata": {},
   "outputs": [
    {
     "name": "stdout",
     "output_type": "stream",
     "text": [
      "DataFrame shape: (97, 2)\n"
     ]
    }
   ],
   "source": [
    "# TODO: do the sanity check\n",
    "compounds_df.dropna(axis=0, how=\"any\", inplace=True)\n",
    "print(f\"DataFrame shape: {compounds_df.shape}\")"
   ]
  },
  {
   "cell_type": "markdown",
   "id": "2c9ccad4-839d-4238-968e-ad1eff4c20bd",
   "metadata": {},
   "source": [
    "### Merge both datasets\n",
    "\n",
    "Merge values of interest from bioactivities_df and compounds_df in an output_df based on the compounds’ ChEMBL IDs (molecule_chembl_id), keeping the following columns:\n",
    "\n",
    "> ChEMBL IDs: molecule_chembl_id\n",
    "\n",
    "> SMILES: smiles\n",
    "\n",
    "> units: units\n",
    "\n",
    "> IC50: IC50"
   ]
  },
  {
   "cell_type": "code",
   "execution_count": 54,
   "id": "ba384439-d874-46e4-973c-1a8f88740549",
   "metadata": {},
   "outputs": [
    {
     "name": "stdout",
     "output_type": "stream",
     "text": [
      "Dataset with 97 entries.\n"
     ]
    }
   ],
   "source": [
    "# Merge DataFrames\n",
    "output_df = pd.merge(\n",
    "    bioactivities_df[[\"molecule_chembl_id\", \"IC50\", \"units\"]],\n",
    "    compounds_df,\n",
    "    on=\"molecule_chembl_id\",\n",
    ")\n",
    "# Reset row indices\n",
    "output_df.reset_index(drop=True, inplace=True)\n",
    "\n",
    "print(f\"Dataset with {output_df.shape[0]} entries.\")"
   ]
  },
  {
   "cell_type": "code",
   "execution_count": 55,
   "id": "fc1ebd94-4396-4b2b-890b-46e915da9baf",
   "metadata": {},
   "outputs": [
    {
     "data": {
      "text/html": [
       "<div>\n",
       "<style scoped>\n",
       "    .dataframe tbody tr th:only-of-type {\n",
       "        vertical-align: middle;\n",
       "    }\n",
       "\n",
       "    .dataframe tbody tr th {\n",
       "        vertical-align: top;\n",
       "    }\n",
       "\n",
       "    .dataframe thead th {\n",
       "        text-align: right;\n",
       "    }\n",
       "</style>\n",
       "<table border=\"1\" class=\"dataframe\">\n",
       "  <thead>\n",
       "    <tr style=\"text-align: right;\">\n",
       "      <th></th>\n",
       "      <th>molecule_chembl_id</th>\n",
       "      <th>IC50</th>\n",
       "      <th>units</th>\n",
       "      <th>smiles</th>\n",
       "    </tr>\n",
       "  </thead>\n",
       "  <tbody>\n",
       "    <tr>\n",
       "      <th>0</th>\n",
       "      <td>CHEMBL343771</td>\n",
       "      <td>540.0</td>\n",
       "      <td>nM</td>\n",
       "      <td>COc1ccc(CCNC2CCCC(C(C#N)(c3ccc(OC)c(OC)c3)C(C)...</td>\n",
       "    </tr>\n",
       "    <tr>\n",
       "      <th>1</th>\n",
       "      <td>CHEMBL138302</td>\n",
       "      <td>390.0</td>\n",
       "      <td>nM</td>\n",
       "      <td>COc1ccc(CCN(C)C2CCCC(C(C#N)(c3ccc(OC)c(OC)c3)C...</td>\n",
       "    </tr>\n",
       "    <tr>\n",
       "      <th>2</th>\n",
       "      <td>CHEMBL6966</td>\n",
       "      <td>150.0</td>\n",
       "      <td>nM</td>\n",
       "      <td>COc1ccc(CCN(C)CCCC(C#N)(c2ccc(OC)c(OC)c2)C(C)C...</td>\n",
       "    </tr>\n",
       "    <tr>\n",
       "      <th>3</th>\n",
       "      <td>CHEMBL3392229</td>\n",
       "      <td>270.0</td>\n",
       "      <td>nM</td>\n",
       "      <td>CCOC(=O)C1=C(C)NC(C)=C(C#N)[C@@H]1c1cnccc1-c1c...</td>\n",
       "    </tr>\n",
       "    <tr>\n",
       "      <th>4</th>\n",
       "      <td>CHEMBL3392227</td>\n",
       "      <td>250.0</td>\n",
       "      <td>nM</td>\n",
       "      <td>CCOC(=O)C1=C(C)NC(C)=C(C#N)[C@@H]1c1cnccc1-c1c...</td>\n",
       "    </tr>\n",
       "    <tr>\n",
       "      <th>5</th>\n",
       "      <td>CHEMBL3392230</td>\n",
       "      <td>100.0</td>\n",
       "      <td>nM</td>\n",
       "      <td>CCOC(=O)C1=C(C)NC(C)=C(C#N)[C@@H]1c1cnccc1-c1c...</td>\n",
       "    </tr>\n",
       "    <tr>\n",
       "      <th>6</th>\n",
       "      <td>CHEMBL247828</td>\n",
       "      <td>3500.0</td>\n",
       "      <td>nM</td>\n",
       "      <td>CC(C)N1C(=O)[C@H](NC(=O)[C@@H](Cc2ccccc2OC(F)(...</td>\n",
       "    </tr>\n",
       "    <tr>\n",
       "      <th>7</th>\n",
       "      <td>CHEMBL247829</td>\n",
       "      <td>1725.0</td>\n",
       "      <td>nM</td>\n",
       "      <td>CC(C)N1C(=O)[C@@H](NC(=O)[C@@H](Cc2ccccc2OC(F)...</td>\n",
       "    </tr>\n",
       "    <tr>\n",
       "      <th>8</th>\n",
       "      <td>CHEMBL493677</td>\n",
       "      <td>14900.0</td>\n",
       "      <td>nM</td>\n",
       "      <td>CC(C)(C)CCN1CC[C@H](CNC(=O)c2cc(Cl)cc(Cl)c2)[C...</td>\n",
       "    </tr>\n",
       "    <tr>\n",
       "      <th>9</th>\n",
       "      <td>CHEMBL495792</td>\n",
       "      <td>28000.0</td>\n",
       "      <td>nM</td>\n",
       "      <td>Cn1nccc1-c1ccc2c(c1)C(=O)CC1(CCN(C(=O)N[C@H]3C...</td>\n",
       "    </tr>\n",
       "  </tbody>\n",
       "</table>\n",
       "</div>"
      ],
      "text/plain": [
       "  molecule_chembl_id     IC50 units   \n",
       "0       CHEMBL343771    540.0    nM  \\\n",
       "1       CHEMBL138302    390.0    nM   \n",
       "2         CHEMBL6966    150.0    nM   \n",
       "3      CHEMBL3392229    270.0    nM   \n",
       "4      CHEMBL3392227    250.0    nM   \n",
       "5      CHEMBL3392230    100.0    nM   \n",
       "6       CHEMBL247828   3500.0    nM   \n",
       "7       CHEMBL247829   1725.0    nM   \n",
       "8       CHEMBL493677  14900.0    nM   \n",
       "9       CHEMBL495792  28000.0    nM   \n",
       "\n",
       "                                              smiles  \n",
       "0  COc1ccc(CCNC2CCCC(C(C#N)(c3ccc(OC)c(OC)c3)C(C)...  \n",
       "1  COc1ccc(CCN(C)C2CCCC(C(C#N)(c3ccc(OC)c(OC)c3)C...  \n",
       "2  COc1ccc(CCN(C)CCCC(C#N)(c2ccc(OC)c(OC)c2)C(C)C...  \n",
       "3  CCOC(=O)C1=C(C)NC(C)=C(C#N)[C@@H]1c1cnccc1-c1c...  \n",
       "4  CCOC(=O)C1=C(C)NC(C)=C(C#N)[C@@H]1c1cnccc1-c1c...  \n",
       "5  CCOC(=O)C1=C(C)NC(C)=C(C#N)[C@@H]1c1cnccc1-c1c...  \n",
       "6  CC(C)N1C(=O)[C@H](NC(=O)[C@@H](Cc2ccccc2OC(F)(...  \n",
       "7  CC(C)N1C(=O)[C@@H](NC(=O)[C@@H](Cc2ccccc2OC(F)...  \n",
       "8  CC(C)(C)CCN1CC[C@H](CNC(=O)c2cc(Cl)cc(Cl)c2)[C...  \n",
       "9  Cn1nccc1-c1ccc2c(c1)C(=O)CC1(CCN(C(=O)N[C@H]3C...  "
      ]
     },
     "execution_count": 55,
     "metadata": {},
     "output_type": "execute_result"
    }
   ],
   "source": [
    "#check dataset length\n",
    "output_df.head(10)"
   ]
  }
 ],
 "metadata": {
  "kernelspec": {
   "display_name": "molecular_m",
   "language": "python",
   "name": "python3"
  },
  "language_info": {
   "codemirror_mode": {
    "name": "ipython",
    "version": 3
   },
   "file_extension": ".py",
   "mimetype": "text/x-python",
   "name": "python",
   "nbconvert_exporter": "python",
   "pygments_lexer": "ipython3",
   "version": "3.8.20"
  }
 },
 "nbformat": 4,
 "nbformat_minor": 5
}
