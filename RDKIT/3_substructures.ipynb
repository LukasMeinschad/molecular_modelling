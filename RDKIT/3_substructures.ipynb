{
 "cells": [
  {
   "cell_type": "markdown",
   "id": "18d1374f",
   "metadata": {},
   "source": [
    "# Molecular Modelling Exercises\n",
    "\n",
    "Make sure you fill in any place that says `YOUR CODE HERE` or \"YOUR ANSWER HERE\"."
   ]
  },
  {
   "cell_type": "markdown",
   "id": "d08a8587",
   "metadata": {},
   "source": [
    "---"
   ]
  },
  {
   "cell_type": "markdown",
   "id": "handmade-premises",
   "metadata": {
    "deletable": false,
    "editable": false,
    "nbgrader": {
     "cell_type": "markdown",
     "checksum": "502b326f0f00c63d6b8b1fc94ff1e758",
     "grade": false,
     "grade_id": "cell-b11960b416ef28ab",
     "locked": true,
     "schema_version": 3,
     "solution": false,
     "task": false
    }
   },
   "source": [
    "# Getting started with RDKit\n",
    "\n",
    "RDKit is an Open-Source Chem(o)informatics and Machine Learning Library that supports C++ and Python. It implements many features, that you have learned about in the lecture. Find more informations here: https://www.rdkit.org/docs/GettingStartedInPython.html"
   ]
  },
  {
   "cell_type": "code",
   "execution_count": 112,
   "id": "false-budget",
   "metadata": {
    "deletable": false,
    "editable": false,
    "nbgrader": {
     "cell_type": "code",
     "checksum": "e0d978ec860ff908d545f984a13c4eea",
     "grade": false,
     "grade_id": "cell-ac2b47ed8b625b2b",
     "locked": true,
     "schema_version": 3,
     "solution": false,
     "task": false
    },
    "tags": []
   },
   "outputs": [],
   "source": [
    "import functools as fn\n",
    "\n",
    "from rdkit import Chem\n",
    "from rdkit.Chem import AllChem, Draw, rdFMCS\n",
    "from rdkit.Chem.Draw import IPythonConsole, SimilarityMaps\n",
    "import pandas as pd\n",
    "\n",
    "from PIL import Image\n"
   ]
  },
  {
   "cell_type": "markdown",
   "id": "f8e697ef-d625-404b-aede-5fb8a165b2cc",
   "metadata": {},
   "source": [
    "Here is an example showcasing how a molecule can be read in from a SMILES and represented in Python."
   ]
  },
  {
   "cell_type": "code",
   "execution_count": 113,
   "id": "2ba510f0-f03e-48cb-9f57-b318145690ed",
   "metadata": {},
   "outputs": [
    {
     "data": {
      "image/png": "[encoded data removed]",
      "text/plain": [
       "<rdkit.Chem.rdchem.Mol at 0x1722776f0>"
      ]
     },
     "execution_count": 113,
     "metadata": {},
     "output_type": "execute_result"
    }
   ],
   "source": [
    "mol = Chem.MolFromSmiles('c1cc(C(=O)O)c(N)cc1')\n",
    "mol.__sssAtoms = [0, 1, 2, 6, 8, 9]\n",
    "mol"
   ]
  },
  {
   "cell_type": "markdown",
   "id": "175aa663-de88-4c48-a099-7ad2a5bac353",
   "metadata": {},
   "source": [
    "The similarity of two molecules can quickly be visualized using Fingerprints and SimilarityMaps."
   ]
  },
  {
   "cell_type": "code",
   "execution_count": 114,
   "id": "e2641966-4629-46d0-865b-489bfbdfa7c1",
   "metadata": {},
   "outputs": [
    {
     "name": "stderr",
     "output_type": "stream",
     "text": [
      "[17:16:29] DEPRECATION WARNING: please use MorganGenerator\n",
      "[17:16:29] DEPRECATION WARNING: please use MorganGenerator\n"
     ]
    },
    {
     "ename": "ArgumentError",
     "evalue": "Python argument types in\n    MolDraw2D.ClearDrawing()\ndid not match C++ signature:\n    ClearDrawing(RDKit::MolDraw2D {lvalue} self)",
     "output_type": "error",
     "traceback": [
      "\u001b[0;31m---------------------------------------------------------------------------\u001b[0m",
      "\u001b[0;31mArgumentError\u001b[0m                             Traceback (most recent call last)",
      "Cell \u001b[0;32mIn[114], line 2\u001b[0m\n\u001b[1;32m      1\u001b[0m mol2 \u001b[38;5;241m=\u001b[39m Chem\u001b[38;5;241m.\u001b[39mMolFromSmiles(\u001b[38;5;124m'\u001b[39m\u001b[38;5;124mc1cc(C(=O)O)c(OC(=O)C)cc1\u001b[39m\u001b[38;5;124m'\u001b[39m)\n\u001b[0;32m----> 2\u001b[0m fig, maxweight \u001b[38;5;241m=\u001b[39m \u001b[43mSimilarityMaps\u001b[49m\u001b[38;5;241;43m.\u001b[39;49m\u001b[43mGetSimilarityMapForFingerprint\u001b[49m\u001b[43m(\u001b[49m\u001b[43mmol\u001b[49m\u001b[43m,\u001b[49m\u001b[43m \u001b[49m\u001b[43mmol2\u001b[49m\u001b[43m,\u001b[49m\u001b[43m \u001b[49m\u001b[43mSimilarityMaps\u001b[49m\u001b[38;5;241;43m.\u001b[39;49m\u001b[43mGetMorganFingerprint\u001b[49m\u001b[43m,\u001b[49m\u001b[43m \u001b[49m\u001b[43mdraw2d\u001b[49m\u001b[38;5;241;43m=\u001b[39;49m\u001b[43mDraw\u001b[49m\u001b[38;5;241;43m.\u001b[39;49m\u001b[43mMolDraw2DSVG\u001b[49m\u001b[43m,\u001b[49m\u001b[43m \u001b[49m\u001b[43msize\u001b[49m\u001b[38;5;241;43m=\u001b[39;49m\u001b[43m(\u001b[49m\u001b[38;5;241;43m150\u001b[39;49m\u001b[43m,\u001b[49m\u001b[43m \u001b[49m\u001b[38;5;241;43m150\u001b[39;49m\u001b[43m)\u001b[49m\u001b[43m)\u001b[49m\n",
      "File \u001b[0;32m/opt/anaconda3/lib/python3.11/site-packages/rdkit/Chem/Draw/SimilarityMaps.py:218\u001b[0m, in \u001b[0;36mGetSimilarityMapForFingerprint\u001b[0;34m(refMol, probeMol, fpFunction, draw2d, metric, **kwargs)\u001b[0m\n\u001b[1;32m    216\u001b[0m weights \u001b[38;5;241m=\u001b[39m GetAtomicWeightsForFingerprint(refMol, probeMol, fpFunction, metric)\n\u001b[1;32m    217\u001b[0m weights, maxWeight \u001b[38;5;241m=\u001b[39m GetStandardizedWeights(weights)\n\u001b[0;32m--> 218\u001b[0m draw2d \u001b[38;5;241m=\u001b[39m \u001b[43mGetSimilarityMapFromWeights\u001b[49m\u001b[43m(\u001b[49m\u001b[43mprobeMol\u001b[49m\u001b[43m,\u001b[49m\u001b[43m \u001b[49m\u001b[43mweights\u001b[49m\u001b[43m,\u001b[49m\u001b[43m \u001b[49m\u001b[43mdraw2d\u001b[49m\u001b[43m,\u001b[49m\u001b[43m \u001b[49m\u001b[38;5;241;43m*\u001b[39;49m\u001b[38;5;241;43m*\u001b[39;49m\u001b[43mkwargs\u001b[49m\u001b[43m)\u001b[49m\n\u001b[1;32m    219\u001b[0m \u001b[38;5;28;01mreturn\u001b[39;00m draw2d, maxWeight\n",
      "File \u001b[0;32m/opt/anaconda3/lib/python3.11/site-packages/rdkit/Chem/Draw/SimilarityMaps.py:178\u001b[0m, in \u001b[0;36mGetSimilarityMapFromWeights\u001b[0;34m(mol, weights, draw2d, colorMap, scale, size, sigma, coordScale, step, colors, contourLines, alpha, **kwargs)\u001b[0m\n\u001b[1;32m    176\u001b[0m   p \u001b[38;5;241m=\u001b[39m mol\u001b[38;5;241m.\u001b[39mGetConformer()\u001b[38;5;241m.\u001b[39mGetAtomPosition(i)\n\u001b[1;32m    177\u001b[0m   locs\u001b[38;5;241m.\u001b[39mappend(Geometry\u001b[38;5;241m.\u001b[39mPoint2D(p\u001b[38;5;241m.\u001b[39mx, p\u001b[38;5;241m.\u001b[39my))\n\u001b[0;32m--> 178\u001b[0m \u001b[43mdraw2d\u001b[49m\u001b[38;5;241;43m.\u001b[39;49m\u001b[43mClearDrawing\u001b[49m\u001b[43m(\u001b[49m\u001b[43m)\u001b[49m\n\u001b[1;32m    179\u001b[0m ps \u001b[38;5;241m=\u001b[39m Draw\u001b[38;5;241m.\u001b[39mContourParams()\n\u001b[1;32m    180\u001b[0m ps\u001b[38;5;241m.\u001b[39mfillGrid \u001b[38;5;241m=\u001b[39m \u001b[38;5;28;01mTrue\u001b[39;00m\n",
      "\u001b[0;31mArgumentError\u001b[0m: Python argument types in\n    MolDraw2D.ClearDrawing()\ndid not match C++ signature:\n    ClearDrawing(RDKit::MolDraw2D {lvalue} self)"
     ]
    }
   ],
   "source": [
    "mol2 = Chem.MolFromSmiles('c1cc(C(=O)O)c(OC(=O)C)cc1')\n",
    "fig, maxweight = SimilarityMaps.GetSimilarityMapForFingerprint(mol, mol2, SimilarityMaps.GetMorganFingerprint, draw2d=Draw.MolDraw2DSVG, size=(150, 150))"
   ]
  },
  {
   "cell_type": "markdown",
   "id": "4adeb046-a8cd-4d72-b225-59367ae98008",
   "metadata": {
    "deletable": false,
    "editable": false,
    "nbgrader": {
     "cell_type": "markdown",
     "checksum": "667ad90a0d14ca8d8cc7e245cf64478b",
     "grade": false,
     "grade_id": "cell-02227e44a66589d7",
     "locked": true,
     "schema_version": 3,
     "solution": false,
     "task": false
    }
   },
   "source": [
    "## Loading data\n",
    "\n",
    "We are able to import a molecule in different ways: either as smiles or as a '.mol' file. Try it with a smiles of your choice. And let python draw the molecule. Does it look like you expect it?"
   ]
  },
  {
   "cell_type": "markdown",
   "id": "486469f4-2982-406c-8e9f-eced0f447d2b",
   "metadata": {},
   "source": [
    "<details>\n",
    "<summary>Click for a tip</summary>\n",
    "Look at the RDKit manual for converting Smiles to molecules.\n",
    "</details>\n",
    "<details>\n",
    "<summary>Click for a tip</summary>\n",
    "Drawing is possible by just writing the name of the variable defined.\n",
    "</details>"
   ]
  },
  {
   "cell_type": "code",
   "execution_count": 22,
   "id": "c050ce57-ed4f-49ae-8c1e-de9b6b813a9f",
   "metadata": {
    "deletable": false,
    "nbgrader": {
     "cell_type": "code",
     "checksum": "3b2ebd84660f54c7b4f99b6f08304451",
     "grade": true,
     "grade_id": "cell-cc2b38ba35db17d9",
     "locked": false,
     "points": 1,
     "schema_version": 3,
     "solution": true,
     "task": false
    },
    "tags": []
   },
   "outputs": [
    {
     "data": {
      "image/jpeg": "[encoded data removed]",
      "image/png": "[encoded data removed]",
      "text/plain": [
       "<PIL.PngImagePlugin.PngImageFile image mode=RGB size=300x300>"
      ]
     },
     "execution_count": 22,
     "metadata": {},
     "output_type": "execute_result"
    }
   ],
   "source": [
    "apixaban = \"COC1=CC=C(C=C1)N2C3=C(CCN(C3=O)C4=CC=C(C=C4)N5CCCCC5=O)C(=N2)C(=O)N\"\n",
    "mol = Chem.MolFromSmiles(apixaban)\n",
    "\n",
    "# Draw the molecule\n",
    "\n",
    "img = Draw.MolToImage(mol)\n",
    "img"
   ]
  },
  {
   "cell_type": "markdown",
   "id": "8ca8c140-d136-4f32-9374-1c43408d8760",
   "metadata": {
    "deletable": false,
    "editable": false,
    "nbgrader": {
     "cell_type": "markdown",
     "checksum": "3ccd5d59fc03163dd0a2cd98dcac7180",
     "grade": false,
     "grade_id": "cell-192068e432d83ed1",
     "locked": true,
     "schema_version": 3,
     "solution": false,
     "task": false
    },
    "tags": []
   },
   "source": [
    "Nevertheless, we can also convert a molecule to a smiles. Try to convert different versions of smiles to a molecule and then back to smiles again."
   ]
  },
  {
   "cell_type": "code",
   "execution_count": 32,
   "id": "40774290-fea3-4249-9bd9-ba4d71b6517b",
   "metadata": {
    "deletable": false,
    "nbgrader": {
     "cell_type": "code",
     "checksum": "70be7042e051f5ebdfba8d0ef5a38c6d",
     "grade": true,
     "grade_id": "cell-26760a2d1223fd78",
     "locked": false,
     "points": 1,
     "schema_version": 3,
     "solution": true,
     "task": false
    },
    "tags": []
   },
   "outputs": [
    {
     "name": "stdout",
     "output_type": "stream",
     "text": [
      "Smiles Variant 1:  COc1ccc(-n2nc(C(N)=O)c3c2C(=O)N(c2ccc(N4CCCCC4=O)cc2)CC3)cc1\n",
      "Smiles Variant 2:  COc1ccc(-n2nc(C(N)=O)c3c2C(=O)N(c2ccc(N4CCCCC4=O)cc2)CC3)cc1\n",
      "Smiles Variant 3: COc1ccc(-n2nc(C(N)=O)c3c2C(=O)N(c2ccc(N4CCCCC4=O)cc2)CC3)cc1\n"
     ]
    }
   ],
   "source": [
    "# \n",
    "\n",
    "apixaban_smiles1 = \"COC1=CC=C(C=C1)N2C3=C(CCN(C3=O)C4=CC=C(C=C4)N5CCCCC5=O)C(=N2)C(=O)N\"\n",
    "apixaban_smiles2= \"COc1ccc(-n2nc(C(N)=O)c3c2C(=O)N(c2ccc(N4CCCCC4=O)cc2)CC3)cc1\"\n",
    "apixaban_smiles3 = \"COc1ccc(cc1)n2c3c(c(n2)C(=O)N)CCN(C3=O)c4ccc(cc4)N5CCCCC5=O\"\n",
    "\n",
    "mol1, mol2, mol3 = Chem.MolFromSmiles(apixaban_smiles1), Chem.MolFromSmiles(apixaban_smiles2), Chem.MolFromSmiles(apixaban_smiles3)\n",
    "\n",
    "print(\"Smiles Variant 1: \", Chem.MolToSmiles(mol1))\n",
    "print(\"Smiles Variant 2: \", Chem.MolToSmiles(mol2))\n",
    "print(\"Smiles Variant 3:\", Chem.MolToSmiles(mol3))\n"
   ]
  },
  {
   "cell_type": "markdown",
   "id": "0577548b-fa02-4d47-8848-e968440f1d60",
   "metadata": {
    "deletable": false,
    "editable": false,
    "nbgrader": {
     "cell_type": "markdown",
     "checksum": "601f39ddda7528f0bf7cb571a5d693c7",
     "grade": false,
     "grade_id": "cell-6516144a70cb9a26",
     "locked": true,
     "points": 1,
     "schema_version": 3,
     "solution": false,
     "task": true
    },
    "tags": []
   },
   "source": [
    "Q: What do you witness when transforming back and forth between smiles - mol - smiles?"
   ]
  },
  {
   "cell_type": "markdown",
   "id": "b265ab06-5631-4ca8-bd0b-96f706d6ba95",
   "metadata": {
    "deletable": false,
    "nbgrader": {
     "cell_type": "markdown",
     "checksum": "d46f9d54f35a2ce80ddadaa5e02cbfc6",
     "grade": true,
     "grade_id": "cell-7306911ffb20ee88",
     "locked": false,
     "points": 1,
     "schema_version": 3,
     "solution": true,
     "task": false
    },
    "tags": []
   },
   "source": [
    "YOUR ANSWER HERE"
   ]
  },
  {
   "cell_type": "markdown",
   "id": "scenic-theology",
   "metadata": {},
   "source": [
    "But it would be really annoying, if we would have to load every molecule one by one. However, we can bypass this issue with our good friend `pandas`. Give it a try with the 'drug.smi' file and try to visualize each smiles."
   ]
  },
  {
   "cell_type": "markdown",
   "id": "ad892a85-9854-4002-97fe-2ef55b34924e",
   "metadata": {},
   "source": [
    "<details>\n",
    "<summary>Click for a tip</summary>\n",
    "Use pd.read_csv(csv_file)    \n",
    "(check the pandas documentation if you are confused: <a>https://pandas.pydata.org/docs/</a> )\n",
    "</details>\n",
    "<details>\n",
    "<summary>Click for a tip</summary>\n",
    "Use either apply or a for-loop to draw the molecules, selecting the correct column. Something with for every smile in the smiles column.\n",
    "</details>"
   ]
  },
  {
   "cell_type": "code",
   "execution_count": 130,
   "id": "0bc4344a-c277-4f28-ae15-87dfe1755cf2",
   "metadata": {
    "deletable": false,
    "nbgrader": {
     "cell_type": "code",
     "checksum": "a26e6c0d7e20eb5fc50ba4bc46099aa7",
     "grade": true,
     "grade_id": "cell-8d2e892ab9992dc7",
     "locked": false,
     "points": 1,
     "schema_version": 3,
     "solution": true,
     "task": false
    },
    "tags": []
   },
   "outputs": [
    {
     "name": "stderr",
     "output_type": "stream",
     "text": [
      "[17:23:53] SMILES Parse Error: syntax error while parsing: smiles\n",
      "[17:23:53] SMILES Parse Error: check for mistakes around position 2:\n",
      "[17:23:53] smiles\n",
      "[17:23:53] ~^\n",
      "[17:23:53] SMILES Parse Error: Failed parsing SMILES 'smiles' for input: 'smiles'\n",
      "[17:23:53] Unusual charge on atom 0 number of radical electrons set to zero\n"
     ]
    }
   ],
   "source": [
    "nice_molecules = pd.read_csv(\"drugs.smi\",sep=\",\",names=[\"idx\",\"name\",\"smiles\"])\n",
    "\n",
    "mol_list = []\n",
    "for index, row in nice_molecules.iterrows():\n",
    "    #name = row[\"name\"]\n",
    "    mol_list.append((Chem.MolFromSmiles(str(row[\"smiles\"]))))\n",
    "\n",
    "cleaned = [item for item in mol_list if item is not None]\n",
    "\n"
   ]
  },
  {
   "cell_type": "markdown",
   "id": "better-renaissance",
   "metadata": {},
   "source": [
    "## Substructure search"
   ]
  },
  {
   "cell_type": "markdown",
   "id": "breathing-nightlife",
   "metadata": {
    "deletable": false,
    "editable": false,
    "nbgrader": {
     "cell_type": "markdown",
     "checksum": "87e57715247e93c4351eef48da925043",
     "grade": false,
     "grade_id": "cell-abe6ec4f1a9aca2e",
     "locked": true,
     "schema_version": 3,
     "solution": false,
     "task": false
    },
    "tags": []
   },
   "source": [
    "To be able to look for common substructures you first have to define a suitable substructure. Give it a try and represent possible templates as smiles and structures."
   ]
  },
  {
   "cell_type": "markdown",
   "id": "2e5d797d-f59d-41fd-9a77-880ec8317f7c",
   "metadata": {},
   "source": [
    "<details>\n",
    "<summary>Click for a tip</summary>\n",
    "What would be chemical substructures that are suitable for this search? Maybe something like an amid? Do you know anything else?\n",
    "</details>\n",
    "<details>\n",
    "<summary>Click for a tip</summary>\n",
    "How do the smiles of your substructure look like?\n",
    "</details>"
   ]
  },
  {
   "cell_type": "code",
   "execution_count": 131,
   "id": "d5dd5611-3575-43e1-a847-7e33c43e1353",
   "metadata": {
    "deletable": false,
    "nbgrader": {
     "cell_type": "code",
     "checksum": "75dee77fef79c7143402dc72729830c8",
     "grade": true,
     "grade_id": "cell-a2b07dfee1fd9b39",
     "locked": false,
     "points": 1,
     "schema_version": 3,
     "solution": true,
     "task": false
    },
    "tags": []
   },
   "outputs": [],
   "source": [
    "substructure_dict = {\"Alkane\": \"CC\",\n",
    "                     \"Alkene\": \"C=C\",\n",
    "                     \"Alkyne\": \"C#C\",\n",
    "                     \"Alcohol\": \"CO\",\n",
    "                     \"Aldehyd\": \"C=O\",\n",
    "                     \"Ketone\": \"CC(=O)C\",\n",
    "                     \"Carboxylic Acid\": \"C(=O)O\",\n",
    "                     \"Amide\": \"C(=O)N\",\n",
    "                     \"Pteridin\": \"C1=CN=C2C(=N1)C=NC=N2\"\n",
    "                     }"
   ]
  },
  {
   "cell_type": "markdown",
   "id": "injured-macedonia",
   "metadata": {
    "deletable": false,
    "editable": false,
    "nbgrader": {
     "cell_type": "markdown",
     "checksum": "1a93519e13cb2fa9ce0ac488bd5302a2",
     "grade": false,
     "grade_id": "cell-0e26a47218b0a8b8",
     "locked": true,
     "schema_version": 3,
     "solution": false,
     "task": false
    },
    "tags": []
   },
   "source": [
    "### Exercise:\n",
    "\n",
    "_1)_ Try to find out how many structures in 'drug.smi' have an amide. How many of the molecules have a pteridin? Visualize all molecules that have __both__ of these substructures and show the names."
   ]
  },
  {
   "cell_type": "markdown",
   "id": "f29d0810-439d-43f8-be2c-c015646d865a",
   "metadata": {},
   "source": [
    "<details>\n",
    "<summary>Click for a tip</summary>\n",
    "Use a for-loop to look for the substructure in the database with `HasSubstructMatch`. Look for the molecules in the right column of your DataFrame and try to write it into a new column.\n",
    "</details>\n",
    "<details>\n",
    "<summary>Click for a tip</summary>\n",
    "If both (amide and pteridine) has to be true, you can combine it with and logical 'and'.\n",
    "</details>\n",
    "<details>\n",
    "<summary>Click for a tip</summary>\n",
    "With the `pandas` commands `loc` or `drop` (for example) you can define a new DataFrame containing the structures which include the substructures.\n",
    "</details>\n",
    "<details>\n",
    "<summary>Click for a tip</summary>\n",
    "Use the command Draw.MolsToGridImage and enter the values of the drawn molecule column. Names can be added via a list as legend.\n",
    "</details>"
   ]
  },
  {
   "cell_type": "code",
   "execution_count": 133,
   "id": "49d66911-fd43-4cb9-a394-e48be5ed2d4a",
   "metadata": {
    "deletable": false,
    "nbgrader": {
     "cell_type": "code",
     "checksum": "76aa5717a5eabc2362f5247a2d2f5c82",
     "grade": false,
     "grade_id": "cell-9590d14395f8e496",
     "locked": false,
     "schema_version": 3,
     "solution": true,
     "task": false
    },
    "tags": []
   },
   "outputs": [
    {
     "name": "stdout",
     "output_type": "stream",
     "text": [
      "[<rdkit.Chem.rdchem.Mol object at 0x172f36730>, <rdkit.Chem.rdchem.Mol object at 0x173160120>, <rdkit.Chem.rdchem.Mol object at 0x1731cf1b0>, <rdkit.Chem.rdchem.Mol object at 0x17319ff40>, <rdkit.Chem.rdchem.Mol object at 0x1731a7680>, <rdkit.Chem.rdchem.Mol object at 0x1731ae9d0>, <rdkit.Chem.rdchem.Mol object at 0x1731b1d20>, <rdkit.Chem.rdchem.Mol object at 0x173218040>]\n"
     ]
    },
    {
     "data": {
      "image/png": "[encoded data removed]",
      "text/plain": [
       "<IPython.core.display.Image object>"
      ]
     },
     "execution_count": 133,
     "metadata": {},
     "output_type": "execute_result"
    }
   ],
   "source": [
    "pattern1 = substructure_dict[\"Amide\"]\n",
    "pattern2 = substructure_dict[\"Pteridin\"]\n",
    "\n",
    "pattern1_mol = Chem.MolFromSmiles(pattern1)\n",
    "pattern2_mol = Chem.MolFromSmiles(pattern2)\n",
    "\n",
    "hits = []\n",
    "for idx,elem in enumerate(cleaned):\n",
    "    if elem.HasSubstructMatch(pattern1_mol) and elem.HasSubstructMatch(pattern2_mol):\n",
    "        hits.append(elem)\n",
    "\n",
    "print(hits)\n",
    "\n",
    "img=Draw.MolsToGridImage(hits,molsPerRow=4,subImgSize=(200,200))  \n",
    "\n",
    "# Image cannot be safter\n",
    "img\n"
   ]
  },
  {
   "cell_type": "markdown",
   "id": "2662020d-7e51-45a8-9d14-02b1baee91f5",
   "metadata": {
    "deletable": false,
    "editable": false,
    "nbgrader": {
     "cell_type": "markdown",
     "checksum": "33569bc8441ee3dd89cf35f66ea317dc",
     "grade": false,
     "grade_id": "cell-ee98073752c66410",
     "locked": true,
     "schema_version": 3,
     "solution": false,
     "task": false
    },
    "tags": []
   },
   "source": [
    "_2)_ What is the largest common substructure of the now identified molecules (`from rdkit.Chem import rdFMCS`)? Differ between 'naive largest substructure' and substructures with complete rings (`ringMatchesRingOnly`)."
   ]
  },
  {
   "cell_type": "code",
   "execution_count": null,
   "id": "b64accd5",
   "metadata": {},
   "outputs": [],
   "source": []
  },
  {
   "cell_type": "markdown",
   "id": "ce13cbf4-a3de-45b4-8699-f797aeea9c5a",
   "metadata": {},
   "source": [
    "<details>\n",
    "<summary>Click for a tip</summary>\n",
    "With 'FindMCS' you can determine the largest substructure of the values of your new defined list.\n",
    "</details>\n",
    "<details>\n",
    "<summary>Click for a tip</summary>\n",
    "Over smarts you can get to a visualization. Have for that a closer look at the RDKit documentation.\n",
    "</details>"
   ]
  },
  {
   "cell_type": "code",
   "execution_count": null,
   "id": "35b428f0-4670-4323-a41f-d71ed28279ed",
   "metadata": {
    "deletable": false,
    "nbgrader": {
     "cell_type": "code",
     "checksum": "f55f6fac209fa1599d9aaea7fe05777a",
     "grade": true,
     "grade_id": "cell-55682ec42bd2c0fe",
     "locked": false,
     "points": 1,
     "schema_version": 3,
     "solution": true,
     "task": false
    },
    "tags": []
   },
   "outputs": [],
   "source": [
    "# YOUR CODE HERE\n",
    "raise NotImplementedError()"
   ]
  },
  {
   "cell_type": "code",
   "execution_count": null,
   "id": "17933efd-007d-4b01-a3e0-a08d6f1d2201",
   "metadata": {},
   "outputs": [],
   "source": []
  },
  {
   "cell_type": "markdown",
   "id": "04d36542-382e-4bed-b355-03ae9e1d32c6",
   "metadata": {
    "deletable": false,
    "editable": false,
    "nbgrader": {
     "cell_type": "markdown",
     "checksum": "6c4b08902086f39703c5b4daee153025",
     "grade": false,
     "grade_id": "cell-ac27506aa3a8023c",
     "locked": true,
     "points": 1,
     "schema_version": 3,
     "solution": false,
     "task": true
    },
    "tags": []
   },
   "source": [
    "Q: What is the largest common Substructure?"
   ]
  },
  {
   "cell_type": "markdown",
   "id": "4a3ad3e4-4fc2-4d90-b06e-88cf61c396d6",
   "metadata": {
    "deletable": false,
    "nbgrader": {
     "cell_type": "markdown",
     "checksum": "cec4c1f2400a039d3cb4c370537025b2",
     "grade": true,
     "grade_id": "cell-4ae71503d70bb24b",
     "locked": false,
     "points": 1,
     "schema_version": 3,
     "solution": true,
     "task": false
    }
   },
   "source": [
    "YOUR ANSWER HERE"
   ]
  }
 ],
 "metadata": {
  "kernelspec": {
   "display_name": "base",
   "language": "python",
   "name": "python3"
  },
  "language_info": {
   "codemirror_mode": {
    "name": "ipython",
    "version": 3
   },
   "file_extension": ".py",
   "mimetype": "text/x-python",
   "name": "python",
   "nbconvert_exporter": "python",
   "pygments_lexer": "ipython3",
   "version": "3.11.7"
  }
 },
 "nbformat": 4,
 "nbformat_minor": 5
}
