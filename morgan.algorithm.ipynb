{
 "cells": [
  {
   "cell_type": "markdown",
   "metadata": {},
   "source": [
    "# Morgan Algorithm vor canonicalization\n",
    "\n"
   ]
  },
  {
   "cell_type": "markdown",
   "metadata": {},
   "source": [
    "1. Assign connectivity value\n",
    "   1. How many atom is every atom connected\n",
    "2. Iterate over the whole molecule\n",
    "3. Continue until number of different values is maximize\n",
    "4. number accordint to connectivity value"
   ]
  },
  {
   "cell_type": "code",
   "execution_count": 33,
   "metadata": {},
   "outputs": [
    {
     "name": "stdout",
     "output_type": "stream",
     "text": [
      "{'C1': ['C2', 'H1'], 'C2': ['C1', 'C3', 'H2'], 'C3': ['C2', 'C4', 'H3'], 'C4': ['C3', 'C5', 'H4'], 'C5': ['C4', 'C6', 'H5'], 'C6': ['C5', 'O1', 'H6'], 'O1': ['C6', 'H7'], 'H1': ['C1'], 'H2': ['C2'], 'H3': ['C3'], 'H4': ['C4'], 'H5': ['C5'], 'H6': ['C6'], 'H7': ['O1']}\n"
     ]
    }
   ],
   "source": [
    "phenol_graph = {\n",
    "    'C1': ['C2', 'H1'],\n",
    "    'C2': ['C1', 'C3', 'H2'],\n",
    "    'C3': ['C2', 'C4', 'H3'],\n",
    "    'C4': ['C3', 'C5', 'H4'],\n",
    "    'C5': ['C4', 'C6', 'H5'],\n",
    "    'C6': ['C5', 'O1', 'H6'],\n",
    "    'O1': ['C6', 'H7'],\n",
    "    'H1': ['C1'],\n",
    "    'H2': ['C2'],\n",
    "    'H3': ['C3'],\n",
    "    'H4': ['C4'],\n",
    "    'H5': ['C5'],\n",
    "    'H6': ['C6'],\n",
    "    'H7': ['O1']\n",
    "}\n",
    "\n",
    "acetic_acid_graph = {\n",
    "    'C1': ['C2'],\n",
    "    'C2': ['C1', 'O1', 'O2'],\n",
    "    'O1': ['C2'],\n",
    "    'O2': ['C2']\n",
    "}\n",
    "\n",
    "print(phenol_graph)"
   ]
  },
  {
   "cell_type": "code",
   "execution_count": 44,
   "metadata": {},
   "outputs": [
    {
     "name": "stdout",
     "output_type": "stream",
     "text": [
      "{'C1': {'con_to': ['C2'], 'con_value': 3}, 'C2': {'con_to': ['C1', 'O1', 'O2'], 'con_value': 3}, 'O1': {'con_to': ['C2'], 'con_value': 3}, 'O2': {'con_to': ['C2'], 'con_value': 3}}\n"
     ]
    }
   ],
   "source": [
    "# now for each atom assign a connectivity value\n",
    "\n",
    "def morgan_algorithm(mol_graph):\n",
    "    \"\"\" \n",
    "    Carries out the morgan canonicalization algorithm\n",
    "    \"\"\"\n",
    "\n",
    "    canonical_graph = {}\n",
    "    # Assign initial connectivity values\n",
    "    for key, value in mol_graph.items():\n",
    "        canonical_graph[key] = {\"con_to\": value, \"con_value\": len(value)}\n",
    "\n",
    "\n",
    "    while True:\n",
    "        new_values = {}\n",
    "        for key, value in canonical_graph.items():\n",
    "            new_values[key] = sum(canonical_graph[neighbor][\"con_value\"] for neighbor in value[\"con_to\"])\n",
    "        # now calculate the break point\n",
    "        # basically check the lenght of the set of values\n",
    "        if len(set(new_values.values())) == len(new_values)-2:\n",
    "           break\n",
    "\n",
    "        \n",
    "        for key in canonical_graph:\n",
    "            canonical_graph[key][\"con_value\"] = new_values[key]\n",
    "        \n",
    "    return canonical_graph\n",
    "\n",
    "print(morgan_algorithm(acetic_acid_graph))\n",
    "\n"
   ]
  }
 ],
 "metadata": {
  "kernelspec": {
   "display_name": "base",
   "language": "python",
   "name": "python3"
  },
  "language_info": {
   "codemirror_mode": {
    "name": "ipython",
    "version": 3
   },
   "file_extension": ".py",
   "mimetype": "text/x-python",
   "name": "python",
   "nbconvert_exporter": "python",
   "pygments_lexer": "ipython3",
   "version": "3.11.7"
  }
 },
 "nbformat": 4,
 "nbformat_minor": 2
}
